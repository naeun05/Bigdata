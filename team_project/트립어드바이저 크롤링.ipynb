{
 "cells": [
  {
   "cell_type": "code",
   "execution_count": 1,
   "metadata": {
    "ExecuteTime": {
     "end_time": "2021-04-22T05:42:48.867746Z",
     "start_time": "2021-04-22T05:42:48.260784Z"
    }
   },
   "outputs": [],
   "source": [
    "from bs4 import BeautifulSoup\n",
    "import time \n",
    "import requests\n",
    "import re\n",
    "import pandas as pd"
   ]
  },
  {
   "cell_type": "markdown",
   "metadata": {},
   "source": [
    "# 서울"
   ]
  },
  {
   "cell_type": "code",
   "execution_count": 33,
   "metadata": {
    "ExecuteTime": {
     "end_time": "2021-04-19T03:03:51.073587Z",
     "start_time": "2021-04-19T03:01:47.102536Z"
    }
   },
   "outputs": [
    {
     "name": "stdout",
     "output_type": "stream",
     "text": [
      "완료\n"
     ]
    }
   ],
   "source": [
    "name_list = []\n",
    "type_list = []\n",
    "review1_list = []\n",
    "\n",
    "for n in range(82) :\n",
    "    if n==0:\n",
    "        url = \"https://www.tripadvisor.co.kr/Attractions-g294197-Activities-a_allAttractions.true-Seoul.html\"\n",
    "    else:\n",
    "        base_url = \"https://www.tripadvisor.co.kr/Attractions-g294197-Activities-oa{}-Seoul.html\"\n",
    "        url = base_url.format(n*30)\n",
    "    page = requests.get(url)\n",
    "    soup = BeautifulSoup(page.content, \"html.parser\")\n",
    "    spot = soup.select(\"div._392swiRT\")\n",
    "    \n",
    "    for info in spot:\n",
    "        name = info.select(\"div._1gpq3zsA._1zP41Z7X\")[0].text\n",
    "        name = re.sub(r'[0-9]+. ','', name)\n",
    "        if len(info.select(\"div.DrjyGw-P\"))>0:\n",
    "            type = info.select(\"div.DrjyGw-P\")[0].text\n",
    "        else:\n",
    "            type = ''\n",
    "        if len(info.select(\"span.DrjyGw-P\"))>0:\n",
    "            review = info.select(\"span.DrjyGw-P\")[0].text\n",
    "        else:\n",
    "            review = 0\n",
    "            \n",
    "            \n",
    "        name_list.append(name)\n",
    "        type_list.append(type)\n",
    "        review1_list.append(review)\n",
    "        \n",
    "data_su = pd.DataFrame({\"name\":name_list, \"type\":type_list, \"review\":review1_list})\n",
    "data_su.to_csv(\"Seoul_trip.csv\", encoding=\"utf-8-sig\")\n",
    "\n",
    "print(\"완료\")"
   ]
  },
  {
   "cell_type": "markdown",
   "metadata": {},
   "source": [
    "# 인천"
   ]
  },
  {
   "cell_type": "code",
   "execution_count": 34,
   "metadata": {
    "ExecuteTime": {
     "end_time": "2021-04-19T03:05:53.469618Z",
     "start_time": "2021-04-19T03:05:38.612751Z"
    }
   },
   "outputs": [
    {
     "name": "stdout",
     "output_type": "stream",
     "text": [
      "완료\n"
     ]
    }
   ],
   "source": [
    "name_list = []\n",
    "type_list = []\n",
    "review1_list = []\n",
    "\n",
    "for n in range(11) :\n",
    "    if n==0:\n",
    "        url = \"https://www.tripadvisor.co.kr/Attractions-g297889-Activities-a_allAttractions.true-Incheon.html\"\n",
    "    else:\n",
    "        base_url = \"https://www.tripadvisor.co.kr/Attractions-g297889-Activities-oa{}-Incheon.html\"\n",
    "        url = base_url.format(n*30)\n",
    "    page = requests.get(url)\n",
    "    soup = BeautifulSoup(page.content, \"html.parser\")\n",
    "    spot = soup.select(\"div._392swiRT\")\n",
    "    \n",
    "    for info in spot:\n",
    "        name = info.select(\"div._1gpq3zsA._1zP41Z7X\")[0].text\n",
    "        name = re.sub(r'[0-9]+. ','', name)\n",
    "        if len(info.select(\"div.DrjyGw-P\"))>0:\n",
    "            type = info.select(\"div.DrjyGw-P\")[0].text\n",
    "        else:\n",
    "            type = ''\n",
    "        if len(info.select(\"span.DrjyGw-P\"))>0:\n",
    "            review = info.select(\"span.DrjyGw-P\")[0].text\n",
    "        else:\n",
    "            review = 0\n",
    "            \n",
    "            \n",
    "        name_list.append(name)\n",
    "        type_list.append(type)\n",
    "        review1_list.append(review)\n",
    "        \n",
    "data_in = pd.DataFrame({\"name\":name_list, \"type\":type_list, \"review\":review1_list})\n",
    "data_in.to_csv(\"Incheon_trip.csv\", encoding=\"utf-8-sig\")\n",
    "\n",
    "print(\"완료\")"
   ]
  },
  {
   "cell_type": "markdown",
   "metadata": {},
   "source": [
    "# 대전"
   ]
  },
  {
   "cell_type": "code",
   "execution_count": 2,
   "metadata": {
    "ExecuteTime": {
     "end_time": "2021-04-22T05:43:09.124975Z",
     "start_time": "2021-04-22T05:42:51.568061Z"
    }
   },
   "outputs": [
    {
     "name": "stdout",
     "output_type": "stream",
     "text": [
      "완료\n"
     ]
    }
   ],
   "source": [
    "name_list = []\n",
    "type_list = []\n",
    "review1_list = []\n",
    "\n",
    "for n in range(8) :\n",
    "    if n==0:\n",
    "        url = \"https://www.tripadvisor.co.kr/Attractions-g297887-Activities-a_allAttractions.true-Daejeon.html\"\n",
    "    else:\n",
    "        base_url = \"https://www.tripadvisor.co.kr/Attractions-g297887-Activities-oa{}-Daejeon.html\"\n",
    "        url = base_url.format(n*30)\n",
    "    page = requests.get(url)\n",
    "    soup = BeautifulSoup(page.content, \"html.parser\")\n",
    "    spot = soup.select(\"div._392swiRT\")\n",
    "    \n",
    "    for info in spot:\n",
    "        name = info.select(\"div._1gpq3zsA._1zP41Z7X\")[0].text\n",
    "        name = re.sub(r'[0-9]+. ','', name)\n",
    "        if len(info.select(\"div.DrjyGw-P\"))>0:\n",
    "            type = info.select(\"div.DrjyGw-P\")[0].text\n",
    "        else:\n",
    "            type = ''\n",
    "        if len(info.select(\"span.DrjyGw-P\"))>0:\n",
    "            review = info.select(\"span.DrjyGw-P\")[0].text\n",
    "        else:\n",
    "            review = 0\n",
    "            \n",
    "            \n",
    "        name_list.append(name)\n",
    "        type_list.append(type)\n",
    "        review1_list.append(review)\n",
    "        \n",
    "data_dj = pd.DataFrame({\"name\":name_list, \"type\":type_list, \"review\":review1_list})\n",
    "data_dj.to_csv(\"Daejeon_trip.csv\", encoding=\"utf-8-sig\")\n",
    "\n",
    "print(\"완료\")"
   ]
  },
  {
   "cell_type": "markdown",
   "metadata": {},
   "source": [
    "# 대구"
   ]
  },
  {
   "cell_type": "code",
   "execution_count": 36,
   "metadata": {
    "ExecuteTime": {
     "end_time": "2021-04-19T03:09:03.215064Z",
     "start_time": "2021-04-19T03:08:51.788099Z"
    }
   },
   "outputs": [
    {
     "name": "stdout",
     "output_type": "stream",
     "text": [
      "완료\n"
     ]
    }
   ],
   "source": [
    "name_list = []\n",
    "type_list = []\n",
    "review1_list = []\n",
    "\n",
    "for n in range(9) :\n",
    "    if n==0:\n",
    "        url = \"https://www.tripadvisor.co.kr/Attractions-g297886-Activities-a_allAttractions.true-Daegu.html\"\n",
    "    else:\n",
    "        base_url = \"https://www.tripadvisor.co.kr/Attractions-g297886-Activities-oa{}-Daegu.html\"\n",
    "        url = base_url.format(n*30)\n",
    "    page = requests.get(url)\n",
    "    soup = BeautifulSoup(page.content, \"html.parser\")\n",
    "    spot = soup.select(\"div._392swiRT\")\n",
    "    \n",
    "    for info in spot:\n",
    "        name = info.select(\"div._1gpq3zsA._1zP41Z7X\")[0].text\n",
    "        name = re.sub(r'[0-9]+. ','', name)\n",
    "        if len(info.select(\"div.DrjyGw-P\"))>0:\n",
    "            type = info.select(\"div.DrjyGw-P\")[0].text\n",
    "        else:\n",
    "            type = ''\n",
    "        if len(info.select(\"span.DrjyGw-P\"))>0:\n",
    "            review = info.select(\"span.DrjyGw-P\")[0].text\n",
    "        else:\n",
    "            review = 0\n",
    "            \n",
    "            \n",
    "        name_list.append(name)\n",
    "        type_list.append(type)\n",
    "        review1_list.append(review)\n",
    "        \n",
    "data_dg = pd.DataFrame({\"name\":name_list, \"type\":type_list, \"review\":review1_list})\n",
    "data_dg.to_csv(\"Daegu_trip.csv\", encoding=\"utf-8-sig\")\n",
    "\n",
    "print(\"완료\")"
   ]
  },
  {
   "cell_type": "markdown",
   "metadata": {},
   "source": [
    "# 광주"
   ]
  },
  {
   "cell_type": "code",
   "execution_count": 41,
   "metadata": {
    "ExecuteTime": {
     "end_time": "2021-04-19T03:13:52.363089Z",
     "start_time": "2021-04-19T03:13:48.265134Z"
    }
   },
   "outputs": [
    {
     "name": "stdout",
     "output_type": "stream",
     "text": [
      "완료\n"
     ]
    }
   ],
   "source": [
    "name_list = []\n",
    "type_list = []\n",
    "review1_list = []\n",
    "\n",
    "for n in range(3) :\n",
    "    if n==0:\n",
    "        url = \"https://www.tripadvisor.co.kr/Attractions-g304129-Activities-a_allAttractions.true-Gwangju.html\"\n",
    "    else:\n",
    "        base_url = \"https://www.tripadvisor.co.kr/Attractions-g304129-Activities-oa{}-Gwangju.html\"\n",
    "        url = base_url.format(n*30)\n",
    "    page = requests.get(url)\n",
    "    soup = BeautifulSoup(page.content, \"html.parser\")\n",
    "    spot = soup.select(\"div._392swiRT\")\n",
    "    \n",
    "    for info in spot:\n",
    "        name = info.select(\"div._1gpq3zsA._1zP41Z7X\")[0].text\n",
    "        name = re.sub(r'[0-9]+. ','', name)\n",
    "        if len(info.select(\"div.DrjyGw-P\"))>0:\n",
    "            type = info.select(\"div.DrjyGw-P\")[0].text\n",
    "        else:\n",
    "            type = ''\n",
    "        if len(info.select(\"span.DrjyGw-P\"))>0:\n",
    "            review = info.select(\"span.DrjyGw-P\")[0].text\n",
    "        else:\n",
    "            review = 0\n",
    "            \n",
    "            \n",
    "        name_list.append(name)\n",
    "        type_list.append(type)\n",
    "        review1_list.append(review)\n",
    "        \n",
    "data_gg = pd.DataFrame({\"name\":name_list, \"type\":type_list, \"review\":review1_list})\n",
    "data_gg.to_csv(\"Gwangju_trip.csv\", encoding=\"utf-8-sig\")\n",
    "\n",
    "print(\"완료\")"
   ]
  },
  {
   "cell_type": "markdown",
   "metadata": {},
   "source": [
    "# 부산"
   ]
  },
  {
   "cell_type": "code",
   "execution_count": 42,
   "metadata": {
    "ExecuteTime": {
     "end_time": "2021-04-19T03:15:34.631432Z",
     "start_time": "2021-04-19T03:15:05.596279Z"
    }
   },
   "outputs": [
    {
     "name": "stdout",
     "output_type": "stream",
     "text": [
      "완료\n"
     ]
    }
   ],
   "source": [
    "name_list = []\n",
    "type_list = []\n",
    "review1_list = []\n",
    "\n",
    "for n in range(20) :\n",
    "    if n==0:\n",
    "        url = \"https://www.tripadvisor.co.kr/Attractions-g297884-Activities-a_allAttractions.true-Busan.html\"\n",
    "    else:\n",
    "        base_url = \"https://www.tripadvisor.co.kr/Attractions-g297884-Activities-oa{}-Busan.html\"\n",
    "        url = base_url.format(n*30)\n",
    "    page = requests.get(url)\n",
    "    soup = BeautifulSoup(page.content, \"html.parser\")\n",
    "    spot = soup.select(\"div._392swiRT\")\n",
    "    \n",
    "    for info in spot:\n",
    "        name = info.select(\"div._1gpq3zsA._1zP41Z7X\")[0].text\n",
    "        name = re.sub(r'[0-9]+. ','', name)\n",
    "        if len(info.select(\"div.DrjyGw-P\"))>0:\n",
    "            type = info.select(\"div.DrjyGw-P\")[0].text\n",
    "        else:\n",
    "            type = ''\n",
    "        if len(info.select(\"span.DrjyGw-P\"))>0:\n",
    "            review = info.select(\"span.DrjyGw-P\")[0].text\n",
    "        else:\n",
    "            review = 0\n",
    "            \n",
    "            \n",
    "        name_list.append(name)\n",
    "        type_list.append(type)\n",
    "        review1_list.append(review)\n",
    "        \n",
    "data_bs = pd.DataFrame({\"name\":name_list, \"type\":type_list, \"review\":review1_list})\n",
    "data_bs.to_csv(\"Busan_trip.csv\", encoding=\"utf-8-sig\")\n",
    "\n",
    "print(\"완료\")"
   ]
  },
  {
   "cell_type": "markdown",
   "metadata": {},
   "source": [
    "# 울산"
   ]
  },
  {
   "cell_type": "code",
   "execution_count": 43,
   "metadata": {
    "ExecuteTime": {
     "end_time": "2021-04-19T03:16:59.689273Z",
     "start_time": "2021-04-19T03:16:53.801740Z"
    }
   },
   "outputs": [
    {
     "name": "stdout",
     "output_type": "stream",
     "text": [
      "완료\n"
     ]
    }
   ],
   "source": [
    "name_list = []\n",
    "type_list = []\n",
    "review1_list = []\n",
    "\n",
    "for n in range(4) :\n",
    "    if n==0:\n",
    "        url = \"https://www.tripadvisor.co.kr/Attractions-g297893-Activities-a_allAttractions.true-Ulsan.html\"\n",
    "    else:\n",
    "        base_url = \"https://www.tripadvisor.co.kr/Attractions-g297893-Activities-oa{}-Ulsan.html\"\n",
    "        url = base_url.format(n*30)\n",
    "    page = requests.get(url)\n",
    "    soup = BeautifulSoup(page.content, \"html.parser\")\n",
    "    spot = soup.select(\"div._392swiRT\")\n",
    "    \n",
    "    for info in spot:\n",
    "        name = info.select(\"div._1gpq3zsA._1zP41Z7X\")[0].text\n",
    "        name = re.sub(r'[0-9]+. ','', name)\n",
    "        if len(info.select(\"div.DrjyGw-P\"))>0:\n",
    "            type = info.select(\"div.DrjyGw-P\")[0].text\n",
    "        else:\n",
    "            type = ''\n",
    "        if len(info.select(\"span.DrjyGw-P\"))>0:\n",
    "            review = info.select(\"span.DrjyGw-P\")[0].text\n",
    "        else:\n",
    "            review = 0\n",
    "            \n",
    "            \n",
    "        name_list.append(name)\n",
    "        type_list.append(type)\n",
    "        review1_list.append(review)\n",
    "        \n",
    "data_us = pd.DataFrame({\"name\":name_list, \"type\":type_list, \"review\":review1_list})\n",
    "data_us.to_csv(\"Ulsan_trip.csv\", encoding=\"utf-8-sig\")\n",
    "\n",
    "print(\"완료\")"
   ]
  },
  {
   "cell_type": "markdown",
   "metadata": {},
   "source": [
    "# 경기도"
   ]
  },
  {
   "cell_type": "code",
   "execution_count": 44,
   "metadata": {
    "ExecuteTime": {
     "end_time": "2021-04-19T03:19:57.951550Z",
     "start_time": "2021-04-19T03:18:53.574378Z"
    }
   },
   "outputs": [
    {
     "name": "stdout",
     "output_type": "stream",
     "text": [
      "완료\n"
     ]
    }
   ],
   "source": [
    "name_list = []\n",
    "type_list = []\n",
    "review1_list = []\n",
    "\n",
    "for n in range(51) :\n",
    "    if n==0:\n",
    "        url = \"https://www.tripadvisor.co.kr/Attractions-g1072089-Activities-a_allAttractions.true-Gyeonggi_do.html\"\n",
    "    else:\n",
    "        base_url = \"https://www.tripadvisor.co.kr/Attractions-g1072089-Activities-oa{}-Gyeonggi_do.html\"\n",
    "        url = base_url.format(n*30)\n",
    "    page = requests.get(url)\n",
    "    soup = BeautifulSoup(page.content, \"html.parser\")\n",
    "    spot = soup.select(\"div._392swiRT\")\n",
    "    \n",
    "    for info in spot:\n",
    "        name = info.select(\"div._1gpq3zsA._1zP41Z7X\")[0].text\n",
    "        name = re.sub(r'[0-9]+. ','', name)\n",
    "        if len(info.select(\"div.DrjyGw-P\"))>0:\n",
    "            type = info.select(\"div.DrjyGw-P\")[0].text\n",
    "        else:\n",
    "            type = ''\n",
    "        if len(info.select(\"span.DrjyGw-P\"))>0:\n",
    "            review = info.select(\"span.DrjyGw-P\")[0].text\n",
    "        else:\n",
    "            review = 0\n",
    "            \n",
    "            \n",
    "        name_list.append(name)\n",
    "        type_list.append(type)\n",
    "        review1_list.append(review)\n",
    "        \n",
    "data_gy = pd.DataFrame({\"name\":name_list, \"type\":type_list, \"review\":review1_list})\n",
    "data_gy.to_csv(\"Gyeonggi_trip.csv\", encoding=\"utf-8-sig\")\n",
    "\n",
    "print(\"완료\")"
   ]
  },
  {
   "cell_type": "markdown",
   "metadata": {},
   "source": [
    "# 강원도"
   ]
  },
  {
   "cell_type": "code",
   "execution_count": 45,
   "metadata": {
    "ExecuteTime": {
     "end_time": "2021-04-19T03:21:47.939181Z",
     "start_time": "2021-04-19T03:21:13.729716Z"
    }
   },
   "outputs": [
    {
     "name": "stdout",
     "output_type": "stream",
     "text": [
      "완료\n"
     ]
    }
   ],
   "source": [
    "name_list = []\n",
    "type_list = []\n",
    "review1_list = []\n",
    "\n",
    "for n in range(24) :\n",
    "    if n==0:\n",
    "        url = \"https://www.tripadvisor.co.kr/Attractions-g1072105-Activities-a_allAttractions.true-Gangwon_do.html\"\n",
    "    else:\n",
    "        base_url = \"https://www.tripadvisor.co.kr/Attractions-g1072105-Activities-oa{}-Gangwon_do.html\"\n",
    "        url = base_url.format(n*30)\n",
    "    page = requests.get(url)\n",
    "    soup = BeautifulSoup(page.content, \"html.parser\")\n",
    "    spot = soup.select(\"div._392swiRT\")\n",
    "    \n",
    "    for info in spot:\n",
    "        name = info.select(\"div._1gpq3zsA._1zP41Z7X\")[0].text\n",
    "        name = re.sub(r'[0-9]+. ','', name)\n",
    "        if len(info.select(\"div.DrjyGw-P\"))>0:\n",
    "            type = info.select(\"div.DrjyGw-P\")[0].text\n",
    "        else:\n",
    "            type = ''\n",
    "        if len(info.select(\"span.DrjyGw-P\"))>0:\n",
    "            review = info.select(\"span.DrjyGw-P\")[0].text\n",
    "        else:\n",
    "            review = 0\n",
    "            \n",
    "            \n",
    "        name_list.append(name)\n",
    "        type_list.append(type)\n",
    "        review1_list.append(review)\n",
    "        \n",
    "data_gw = pd.DataFrame({\"name\":name_list, \"type\":type_list, \"review\":review1_list})\n",
    "data_gw.to_csv(\"Gangwon_trip.csv\", encoding=\"utf-8-sig\")\n",
    "\n",
    "print(\"완료\")"
   ]
  },
  {
   "cell_type": "markdown",
   "metadata": {},
   "source": [
    "# 충청북도"
   ]
  },
  {
   "cell_type": "code",
   "execution_count": 46,
   "metadata": {
    "ExecuteTime": {
     "end_time": "2021-04-19T03:22:40.100933Z",
     "start_time": "2021-04-19T03:22:24.760036Z"
    }
   },
   "outputs": [
    {
     "name": "stdout",
     "output_type": "stream",
     "text": [
      "완료\n"
     ]
    }
   ],
   "source": [
    "name_list = []\n",
    "type_list = []\n",
    "review1_list = []\n",
    "\n",
    "for n in range(12) :\n",
    "    if n==0:\n",
    "        url = \"https://www.tripadvisor.co.kr/Attractions-g2023524-Activities-a_allAttractions.true-Chungcheongbuk_do.html\"\n",
    "    else:\n",
    "        base_url = \"https://www.tripadvisor.co.kr/Attractions-g2023524-Activities-oa{}-Chungcheongbuk_do.html\"\n",
    "        url = base_url.format(n*30)\n",
    "    page = requests.get(url)\n",
    "    soup = BeautifulSoup(page.content, \"html.parser\")\n",
    "    spot = soup.select(\"div._392swiRT\")\n",
    "    \n",
    "    for info in spot:\n",
    "        name = info.select(\"div._1gpq3zsA._1zP41Z7X\")[0].text\n",
    "        name = re.sub(r'[0-9]+. ','', name)\n",
    "        if len(info.select(\"div.DrjyGw-P\"))>0:\n",
    "            type = info.select(\"div.DrjyGw-P\")[0].text\n",
    "        else:\n",
    "            type = ''\n",
    "        if len(info.select(\"span.DrjyGw-P\"))>0:\n",
    "            review = info.select(\"span.DrjyGw-P\")[0].text\n",
    "        else:\n",
    "            review = 0\n",
    "            \n",
    "            \n",
    "        name_list.append(name)\n",
    "        type_list.append(type)\n",
    "        review1_list.append(review)\n",
    "        \n",
    "data_cb = pd.DataFrame({\"name\":name_list, \"type\":type_list, \"review\":review1_list})\n",
    "data_cb.to_csv(\"Chungcheongbuk_do_trip.csv\", encoding=\"utf-8-sig\")\n",
    "\n",
    "print(\"완료\")"
   ]
  },
  {
   "cell_type": "markdown",
   "metadata": {},
   "source": [
    "# 충청남도"
   ]
  },
  {
   "cell_type": "code",
   "execution_count": 47,
   "metadata": {
    "ExecuteTime": {
     "end_time": "2021-04-19T03:23:41.687868Z",
     "start_time": "2021-04-19T03:23:22.636310Z"
    }
   },
   "outputs": [
    {
     "name": "stdout",
     "output_type": "stream",
     "text": [
      "완료\n"
     ]
    }
   ],
   "source": [
    "name_list = []\n",
    "type_list = []\n",
    "review1_list = []\n",
    "\n",
    "for n in range(14) :\n",
    "    if n==0:\n",
    "        url = \"https://www.tripadvisor.co.kr/Attractions-g1072096-Activities-a_allAttractions.true-Chungcheongnam_do.html\"\n",
    "    else:\n",
    "        base_url = \"https://www.tripadvisor.co.kr/Attractions-g1072096-Activities-oa{}-Chungcheongnam_do.html\"\n",
    "        url = base_url.format(n*30)\n",
    "    page = requests.get(url)\n",
    "    soup = BeautifulSoup(page.content, \"html.parser\")\n",
    "    spot = soup.select(\"div._392swiRT\")\n",
    "    \n",
    "    for info in spot:\n",
    "        name = info.select(\"div._1gpq3zsA._1zP41Z7X\")[0].text\n",
    "        name = re.sub(r'[0-9]+. ','', name)\n",
    "        if len(info.select(\"div.DrjyGw-P\"))>0:\n",
    "            type = info.select(\"div.DrjyGw-P\")[0].text\n",
    "        else:\n",
    "            type = ''\n",
    "        if len(info.select(\"span.DrjyGw-P\"))>0:\n",
    "            review = info.select(\"span.DrjyGw-P\")[0].text\n",
    "        else:\n",
    "            review = 0\n",
    "            \n",
    "            \n",
    "        name_list.append(name)\n",
    "        type_list.append(type)\n",
    "        review1_list.append(review)\n",
    "        \n",
    "data_cn = pd.DataFrame({\"name\":name_list, \"type\":type_list, \"review\":review1_list})\n",
    "data_cn.to_csv(\"Chungcheongnam_do_trip.csv\", encoding=\"utf-8-sig\")\n",
    "\n",
    "print(\"완료\")"
   ]
  },
  {
   "cell_type": "markdown",
   "metadata": {},
   "source": [
    "# 경상북도"
   ]
  },
  {
   "cell_type": "code",
   "execution_count": 48,
   "metadata": {
    "ExecuteTime": {
     "end_time": "2021-04-19T03:33:55.047685Z",
     "start_time": "2021-04-19T03:33:10.324494Z"
    }
   },
   "outputs": [
    {
     "name": "stdout",
     "output_type": "stream",
     "text": [
      "완료\n"
     ]
    }
   ],
   "source": [
    "name_list = []\n",
    "type_list = []\n",
    "review1_list = []\n",
    "\n",
    "for n in range(26) :\n",
    "    if n==0:\n",
    "        url = \"https://www.tripadvisor.co.kr/Attractions-g2023521-Activities-a_allAttractions.true-Gyeongsangbuk_do.html\"\n",
    "    else:\n",
    "        base_url = \"https://www.tripadvisor.co.kr/Attractions-g2023521-Activities-oa{}-Gyeongsangbuk_do.html\"\n",
    "        url = base_url.format(n*30)\n",
    "    page = requests.get(url)\n",
    "    soup = BeautifulSoup(page.content, \"html.parser\")\n",
    "    spot = soup.select(\"div._392swiRT\")\n",
    "    \n",
    "    for info in spot:\n",
    "        name = info.select(\"div._1gpq3zsA._1zP41Z7X\")[0].text\n",
    "        name = re.sub(r'[0-9]+. ','', name)\n",
    "        if len(info.select(\"div.DrjyGw-P\"))>0:\n",
    "            type = info.select(\"div.DrjyGw-P\")[0].text\n",
    "        else:\n",
    "            type = ''\n",
    "        if len(info.select(\"span.DrjyGw-P\"))>0:\n",
    "            review = info.select(\"span.DrjyGw-P\")[0].text\n",
    "        else:\n",
    "            review = 0\n",
    "            \n",
    "            \n",
    "        name_list.append(name)\n",
    "        type_list.append(type)\n",
    "        review1_list.append(review)\n",
    "        \n",
    "data_gyb = pd.DataFrame({\"name\":name_list, \"type\":type_list, \"review\":review1_list})\n",
    "data_gyb.to_csv(\"Gyeongsangbuk_do_trip.csv\", encoding=\"utf-8-sig\")\n",
    "\n",
    "print(\"완료\")"
   ]
  },
  {
   "cell_type": "markdown",
   "metadata": {},
   "source": [
    "# 경상남도"
   ]
  },
  {
   "cell_type": "code",
   "execution_count": 49,
   "metadata": {
    "ExecuteTime": {
     "end_time": "2021-04-19T03:34:33.117098Z",
     "start_time": "2021-04-19T03:34:08.477564Z"
    }
   },
   "outputs": [
    {
     "name": "stdout",
     "output_type": "stream",
     "text": [
      "완료\n"
     ]
    }
   ],
   "source": [
    "name_list = []\n",
    "type_list = []\n",
    "review1_list = []\n",
    "\n",
    "for n in range(21) :\n",
    "    if n==0:\n",
    "        url = \"https://www.tripadvisor.co.kr/Attractions-g1072104-Activities-a_allAttractions.true-Gyeongsangnam_do.html\"\n",
    "    else:\n",
    "        base_url = \"https://www.tripadvisor.co.kr/Attractions-g1072104-Activities-oa{}-Gyeongsangnam_do.html\"\n",
    "        url = base_url.format(n*30)\n",
    "    page = requests.get(url)\n",
    "    soup = BeautifulSoup(page.content, \"html.parser\")\n",
    "    spot = soup.select(\"div._392swiRT\")\n",
    "    \n",
    "    for info in spot:\n",
    "        name = info.select(\"div._1gpq3zsA._1zP41Z7X\")[0].text\n",
    "        name = re.sub(r'[0-9]+. ','', name)\n",
    "        if len(info.select(\"div.DrjyGw-P\"))>0:\n",
    "            type = info.select(\"div.DrjyGw-P\")[0].text\n",
    "        else:\n",
    "            type = ''\n",
    "        if len(info.select(\"span.DrjyGw-P\"))>0:\n",
    "            review = info.select(\"span.DrjyGw-P\")[0].text\n",
    "        else:\n",
    "            review = 0\n",
    "            \n",
    "            \n",
    "        name_list.append(name)\n",
    "        type_list.append(type)\n",
    "        review1_list.append(review)\n",
    "        \n",
    "data_gyn = pd.DataFrame({\"name\":name_list, \"type\":type_list, \"review\":review1_list})\n",
    "data_gyn.to_csv(\"Gyeongsangnam_do_trip.csv\", encoding=\"utf-8-sig\")\n",
    "\n",
    "print(\"완료\")"
   ]
  },
  {
   "cell_type": "markdown",
   "metadata": {},
   "source": [
    "# 전라북도"
   ]
  },
  {
   "cell_type": "code",
   "execution_count": 50,
   "metadata": {
    "ExecuteTime": {
     "end_time": "2021-04-19T03:36:15.655922Z",
     "start_time": "2021-04-19T03:35:49.731207Z"
    }
   },
   "outputs": [
    {
     "name": "stdout",
     "output_type": "stream",
     "text": [
      "완료\n"
     ]
    }
   ],
   "source": [
    "name_list = []\n",
    "type_list = []\n",
    "review1_list = []\n",
    "\n",
    "for n in range(15) :\n",
    "    if n==0:\n",
    "        url = \"https://www.tripadvisor.co.kr/Attractions-g2023520-Activities-a_allAttractions.true-Jeollabuk_do.html\"\n",
    "    else:\n",
    "        base_url = \"https://www.tripadvisor.co.kr/Attractions-g2023520-Activities-oa{}-Jeollabuk_do.html\"\n",
    "        url = base_url.format(n*30)\n",
    "    page = requests.get(url)\n",
    "    soup = BeautifulSoup(page.content, \"html.parser\")\n",
    "    spot = soup.select(\"div._392swiRT\")\n",
    "    \n",
    "    for info in spot:\n",
    "        name = info.select(\"div._1gpq3zsA._1zP41Z7X\")[0].text\n",
    "        name = re.sub(r'[0-9]+. ','', name)\n",
    "        if len(info.select(\"div.DrjyGw-P\"))>0:\n",
    "            type = info.select(\"div.DrjyGw-P\")[0].text\n",
    "        else:\n",
    "            type = ''\n",
    "        if len(info.select(\"span.DrjyGw-P\"))>0:\n",
    "            review = info.select(\"span.DrjyGw-P\")[0].text\n",
    "        else:\n",
    "            review = 0\n",
    "            \n",
    "            \n",
    "        name_list.append(name)\n",
    "        type_list.append(type)\n",
    "        review1_list.append(review)\n",
    "        \n",
    "data_jb = pd.DataFrame({\"name\":name_list, \"type\":type_list, \"review\":review1_list})\n",
    "data_jb.to_csv(\"Jeollabuk_do_trip.csv\", encoding=\"utf-8-sig\")\n",
    "\n",
    "print(\"완료\")"
   ]
  },
  {
   "cell_type": "markdown",
   "metadata": {},
   "source": [
    "# 전라남도"
   ]
  },
  {
   "cell_type": "code",
   "execution_count": 51,
   "metadata": {
    "ExecuteTime": {
     "end_time": "2021-04-19T03:37:27.515315Z",
     "start_time": "2021-04-19T03:36:45.221562Z"
    }
   },
   "outputs": [
    {
     "name": "stdout",
     "output_type": "stream",
     "text": [
      "완료\n"
     ]
    }
   ],
   "source": [
    "name_list = []\n",
    "type_list = []\n",
    "review1_list = []\n",
    "\n",
    "for n in range(22) :\n",
    "    if n==0:\n",
    "        url = \"https://www.tripadvisor.co.kr/Attractions-g1072086-Activities-a_allAttractions.true-Jeollanam_do.html\"\n",
    "    else:\n",
    "        base_url = \"https://www.tripadvisor.co.kr/Attractions-g1072086-Activities-oa{}-Jeollanam_do.html\"\n",
    "        url = base_url.format(n*30)\n",
    "    page = requests.get(url)\n",
    "    soup = BeautifulSoup(page.content, \"html.parser\")\n",
    "    spot = soup.select(\"div._392swiRT\")\n",
    "    \n",
    "    for info in spot:\n",
    "        name = info.select(\"div._1gpq3zsA._1zP41Z7X\")[0].text\n",
    "        name = re.sub(r'[0-9]+. ','', name)\n",
    "        if len(info.select(\"div.DrjyGw-P\"))>0:\n",
    "            type = info.select(\"div.DrjyGw-P\")[0].text\n",
    "        else:\n",
    "            type = ''\n",
    "        if len(info.select(\"span.DrjyGw-P\"))>0:\n",
    "            review = info.select(\"span.DrjyGw-P\")[0].text\n",
    "        else:\n",
    "            review = 0\n",
    "            \n",
    "            \n",
    "        name_list.append(name)\n",
    "        type_list.append(type)\n",
    "        review1_list.append(review)\n",
    "        \n",
    "data_jn = pd.DataFrame({\"name\":name_list, \"type\":type_list, \"review\":review1_list})\n",
    "data_jn.to_csv(\"Jeollanam_do_trip.csv\", encoding=\"utf-8-sig\")\n",
    "\n",
    "print(\"완료\")"
   ]
  },
  {
   "cell_type": "markdown",
   "metadata": {},
   "source": [
    "# 제주도"
   ]
  },
  {
   "cell_type": "code",
   "execution_count": 52,
   "metadata": {
    "ExecuteTime": {
     "end_time": "2021-04-19T03:38:17.192025Z",
     "start_time": "2021-04-19T03:37:55.091779Z"
    }
   },
   "outputs": [
    {
     "name": "stdout",
     "output_type": "stream",
     "text": [
      "완료\n"
     ]
    }
   ],
   "source": [
    "name_list = []\n",
    "type_list = []\n",
    "review1_list = []\n",
    "\n",
    "for n in range(15) :\n",
    "    if n==0:\n",
    "        url = \"https://www.tripadvisor.co.kr/Attractions-g983296-Activities-a_allAttractions.true-Jeju_Island.html\"\n",
    "    else:\n",
    "        base_url = \"https://www.tripadvisor.co.kr/Attractions-g983296-Activities-oa{}-Jeju_Island.html\"\n",
    "        url = base_url.format(n*30)\n",
    "    page = requests.get(url)\n",
    "    soup = BeautifulSoup(page.content, \"html.parser\")\n",
    "    spot = soup.select(\"div._392swiRT\")\n",
    "    \n",
    "    for info in spot:\n",
    "        name = info.select(\"div._1gpq3zsA._1zP41Z7X\")[0].text\n",
    "        name = re.sub(r'[0-9]+. ','', name)\n",
    "        if len(info.select(\"div.DrjyGw-P\"))>0:\n",
    "            type = info.select(\"div.DrjyGw-P\")[0].text\n",
    "        else:\n",
    "            type = ''\n",
    "        if len(info.select(\"span.DrjyGw-P\"))>0:\n",
    "            review = info.select(\"span.DrjyGw-P\")[0].text\n",
    "        else:\n",
    "            review = 0\n",
    "            \n",
    "            \n",
    "        name_list.append(name)\n",
    "        type_list.append(type)\n",
    "        review1_list.append(review)\n",
    "        \n",
    "data_jj = pd.DataFrame({\"name\":name_list, \"type\":type_list, \"review\":review1_list})\n",
    "data_jj.to_csv(\"Jeju_Island_trip.csv\", encoding=\"utf-8-sig\")\n",
    "\n",
    "print(\"완료\")"
   ]
  }
 ],
 "metadata": {
  "kernelspec": {
   "display_name": "Python 3",
   "language": "python",
   "name": "python3"
  },
  "language_info": {
   "codemirror_mode": {
    "name": "ipython",
    "version": 3
   },
   "file_extension": ".py",
   "mimetype": "text/x-python",
   "name": "python",
   "nbconvert_exporter": "python",
   "pygments_lexer": "ipython3",
   "version": "3.8.5"
  },
  "toc": {
   "base_numbering": 1,
   "nav_menu": {},
   "number_sections": true,
   "sideBar": true,
   "skip_h1_title": false,
   "title_cell": "Table of Contents",
   "title_sidebar": "Contents",
   "toc_cell": false,
   "toc_position": {},
   "toc_section_display": true,
   "toc_window_display": true
  },
  "varInspector": {
   "cols": {
    "lenName": 16,
    "lenType": 16,
    "lenVar": 40
   },
   "kernels_config": {
    "python": {
     "delete_cmd_postfix": "",
     "delete_cmd_prefix": "del ",
     "library": "var_list.py",
     "varRefreshCmd": "print(var_dic_list())"
    },
    "r": {
     "delete_cmd_postfix": ") ",
     "delete_cmd_prefix": "rm(",
     "library": "var_list.r",
     "varRefreshCmd": "cat(var_dic_list()) "
    }
   },
   "types_to_exclude": [
    "module",
    "function",
    "builtin_function_or_method",
    "instance",
    "_Feature"
   ],
   "window_display": false
  }
 },
 "nbformat": 4,
 "nbformat_minor": 4
}
